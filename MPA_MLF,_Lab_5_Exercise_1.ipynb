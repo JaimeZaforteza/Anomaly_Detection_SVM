{
  "nbformat": 4,
  "nbformat_minor": 0,
  "metadata": {
    "colab": {
      "provenance": []
    },
    "kernelspec": {
      "name": "python3",
      "display_name": "Python 3"
    },
    "language_info": {
      "name": "python"
    }
  },
  "cells": [
    {
      "cell_type": "code",
      "execution_count": 14,
      "metadata": {
        "colab": {
          "base_uri": "https://localhost:8080/",
          "height": 505
        },
        "id": "buZC2YnKd-fO",
        "outputId": "f17f4f4a-a49a-4182-99b4-6fb8e9d59ae2"
      },
      "outputs": [
        {
          "output_type": "stream",
          "name": "stdout",
          "text": [
            "Accuracy: 100.00\n",
            "1/1 [==============================] - 0s 117ms/step\n",
            "Data sample is [0, 0], prediction from model [[0.00252497]], ground_truth 0\n",
            "1/1 [==============================] - 0s 43ms/step\n",
            "Data sample is [0, 1], prediction from model [[0.99651104]], ground_truth 1\n",
            "1/1 [==============================] - 0s 44ms/step\n",
            "Data sample is [1, 0], prediction from model [[0.99767447]], ground_truth 1\n",
            "1/1 [==============================] - 0s 45ms/step\n",
            "Data sample is [1, 1], prediction from model [[0.00220341]], ground_truth 0\n"
          ]
        },
        {
          "output_type": "execute_result",
          "data": {
            "text/plain": [
              "Text(0, 0.5, 'loss')"
            ]
          },
          "metadata": {},
          "execution_count": 14
        },
        {
          "output_type": "display_data",
          "data": {
            "text/plain": [
              "<Figure size 432x288 with 0 Axes>"
            ]
          },
          "metadata": {}
        },
        {
          "output_type": "display_data",
          "data": {
            "text/plain": [
              "<Figure size 432x288 with 0 Axes>"
            ]
          },
          "metadata": {}
        },
        {
          "output_type": "display_data",
          "data": {
            "text/plain": [
              "<Figure size 432x288 with 0 Axes>"
            ]
          },
          "metadata": {}
        },
        {
          "output_type": "display_data",
          "data": {
            "text/plain": [
              "<Figure size 432x288 with 1 Axes>"
            ],
            "image/png": "[encoded data removed]"
          },
          "metadata": {
            "needs_background": "light"
          }
        }
      ],
      "source": [
        "from tensorflow.keras.models import Sequential\n",
        "from tensorflow.keras.layers import Dense\n",
        "import tensorflow as tf\n",
        "import matplotlib.pyplot as plt\n",
        "\n",
        "\n",
        "# Data that we will be using for this first example\n",
        "X = [[0, 0], [0, 1], [1, 0], [1, 1]]\n",
        "y = [0, 1, 1, 0]\n",
        "\n",
        "# Creating de NuralNetwork model with just 2 layers\n",
        "model = Sequential()\n",
        "model.add(Dense(2, input_dim=2, activation='sigmoid'))\n",
        "model.add(Dense(1, activation='sigmoid'))\n",
        "\n",
        "# Compiling the model   IMPORTANT\n",
        "optimizer = tf.keras.optimizers.SGD(learning_rate=0.5)\n",
        "model.compile(loss='binary_crossentropy', optimizer=optimizer, metrics=['accuracy'])\n",
        "\n",
        "# Model training and keep the process into the variable 'history'\n",
        "history = model.fit(X, y, epochs=2000, batch_size=1, verbose=0)\n",
        "\n",
        "loss, accuracy = model.evaluate(X, y, verbose=0)\n",
        "print('Accuracy: {:.2f}'.format(accuracy*100))\n",
        "\n",
        "# Model predictions\n",
        "for id_x, data_sample in enumerate(X):\n",
        "  prediction = model.predict([data_sample])\n",
        "  print(f\"Data sample is {data_sample}, prediction from model {prediction}, ground_truth {y[id_x]}\")\n",
        "\n",
        "  plt.figure()\n",
        "plt.plot(history.history['loss'])\n",
        "plt.xlabel('n epochs')\n",
        "plt.ylabel('loss')"
      ]
    },
    {
      "cell_type": "markdown",
      "source": [
        "##TASK:\n",
        "Change the following parameters:\n",
        "\n",
        "- Number of epochs\n",
        "- Learning_rate\n",
        "- Activation functions in layers,\n",
        "- Batch_size,\n",
        "- Verbose,\n",
        "- Number of neurons in the hidden layer\n",
        "\n",
        "and then, see the influence on the training process and results."
      ],
      "metadata": {
        "id": "hTSeO5xDhWCg"
      }
    },
    {
      "cell_type": "code",
      "source": [
        "# I already have imported the libraries on the previous ex.\n",
        "\n",
        "# Data that we will be using for this example\n",
        "X = [[0, 0], [0, 1], [1, 0], [1, 1]]\n",
        "y = [0, 1, 1, 0]\n",
        "\n",
        "# Creating the Neural Network model with 2 layers\n",
        "model = Sequential()\n",
        "\n",
        "# I changed the number of neurons and the activation function\n",
        "model.add(Dense(4, input_dim=2, activation='relu'))  \n",
        "model.add(Dense(1, activation='sigmoid'))\n",
        "\n",
        "# Compiling the model\n",
        "# I changed the optimizer and learning rate\n",
        "optimizer = tf.keras.optimizers.Adam(learning_rate=0.01)  \n",
        "model.compile(loss='binary_crossentropy', optimizer=optimizer, metrics=['accuracy'])\n",
        "\n",
        "# Model training with 500 epochs, batch_size of 2, and verbose set to 1\n",
        "history = model.fit(X, y, epochs=1500, batch_size=2, verbose=0)\n",
        "\n",
        "# Model evaluation\n",
        "loss, accuracy = model.evaluate(X, y, verbose=0)\n",
        "print('Accuracy: {:.2f}'.format(accuracy*100))\n",
        "\n",
        "# Model predictions\n",
        "for id_x, data_sample in enumerate(X):\n",
        "  prediction = model.predict([data_sample])\n",
        "  print(f\"Data sample is {data_sample}, prediction from model {prediction}, ground_truth {y[id_x]}\")\n",
        "\n",
        "# Plotting the loss over epochs\n",
        "plt.figure()\n",
        "plt.plot(history.history['loss'])\n",
        "plt.xlabel('n epochs')\n",
        "plt.ylabel('loss')\n",
        "plt.show()\n"
      ],
      "metadata": {
        "colab": {
          "base_uri": "https://localhost:8080/",
          "height": 473
        },
        "id": "RPoMc2_3gnZC",
        "outputId": "4a9d2d22-737c-491d-fdf2-fa57301fe349"
      },
      "execution_count": 17,
      "outputs": [
        {
          "output_type": "stream",
          "name": "stderr",
          "text": [
            "WARNING:tensorflow:5 out of the last 5 calls to <function Model.make_test_function.<locals>.test_function at 0x7f049a197dc0> triggered tf.function retracing. Tracing is expensive and the excessive number of tracings could be due to (1) creating @tf.function repeatedly in a loop, (2) passing tensors with different shapes, (3) passing Python objects instead of tensors. For (1), please define your @tf.function outside of the loop. For (2), @tf.function has reduce_retracing=True option that can avoid unnecessary retracing. For (3), please refer to https://www.tensorflow.org/guide/function#controlling_retracing and https://www.tensorflow.org/api_docs/python/tf/function for  more details.\n"
          ]
        },
        {
          "output_type": "stream",
          "name": "stdout",
          "text": [
            "Accuracy: 75.00\n",
            "1/1 [==============================] - 0s 72ms/step\n",
            "Data sample is [0, 0], prediction from model [[0.500344]], ground_truth 0\n",
            "1/1 [==============================] - 0s 49ms/step\n",
            "Data sample is [0, 1], prediction from model [[0.500344]], ground_truth 1\n",
            "1/1 [==============================] - 0s 40ms/step\n",
            "Data sample is [1, 0], prediction from model [[0.9998175]], ground_truth 1\n",
            "1/1 [==============================] - 0s 42ms/step\n",
            "Data sample is [1, 1], prediction from model [[0.00022308]], ground_truth 0\n"
          ]
        },
        {
          "output_type": "display_data",
          "data": {
            "text/plain": [
              "<Figure size 432x288 with 1 Axes>"
            ],
            "image/png": "[encoded data removed]"
          },
          "metadata": {
            "needs_background": "light"
          }
        }
      ]
    },
    {
      "cell_type": "markdown",
      "source": [
        "- The number of neurons in the hidden layer was increased to 4 to increase the model's capacity to learn more complex patterns in the data.\n",
        "- The activation function in the hidden layer was changed to 'relu', which is known to work better for deep neural networks.\n",
        "- The optimizer was changed to Adam\n",
        "- The learning rate was decreased to 0.01.\n",
        "- The number of epochs was reduced to 1500.\n",
        "- The batch size was increased to 2 to increase the number of samples processed per update and to reduce the variance in the weight updates."
      ],
      "metadata": {
        "id": "qpQFMYq2jHe4"
      }
    },
    {
      "cell_type": "code",
      "source": [],
      "metadata": {
        "id": "v6y3vpUxiA6Y"
      },
      "execution_count": null,
      "outputs": []
    }
  ]
}